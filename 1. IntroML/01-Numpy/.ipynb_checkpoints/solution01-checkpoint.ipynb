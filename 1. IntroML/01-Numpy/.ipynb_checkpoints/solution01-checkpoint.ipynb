{
 "cells": [
  {
   "cell_type": "code",
   "execution_count": 2,
   "metadata": {},
   "outputs": [],
   "source": [
    "import numpy as np"
   ]
  },
  {
   "cell_type": "markdown",
   "metadata": {},
   "source": [
    "# Задача 1"
   ]
  },
  {
   "cell_type": "code",
   "execution_count": 29,
   "metadata": {},
   "outputs": [],
   "source": [
    "def jordan_matrix(X: np.ndarray) -> np.ndarray:\n",
    "    def create_block(x: tuple):\n",
    "        return np.eye(int(x[1]), k=0) * x[0] + np.eye(int(x[1]), k=1)\n",
    "    \n",
    "    fir = create_block(X[0])\n",
    "    sec = create_block(X[1])\n",
    "    thi = create_block(X[2])\n",
    "    \n",
    "    zero1 = np.zeros((int(X[0][1]), int(X[1][1])))\n",
    "    zero2 = np.zeros((int(X[0][1]), int(X[2][1])))\n",
    "    zero3 = np.zeros((int(X[1][1]), int(X[0][1])))\n",
    "    zero4 = np.zeros((int(X[1][1]), int(X[2][1])))\n",
    "    zero5 = np.zeros((int(X[2][1]), int(X[0][1])))\n",
    "    zero6 = np.zeros((int(X[2][1]), int(X[1][1])))\n",
    "    \n",
    "    return np.block([\n",
    "                        [fir, zero1, zero2],\n",
    "                        [zero3, sec, zero4],\n",
    "                        [zero5, zero6, thi]\n",
    "                    ])\n",
    "    \n",
    "    \n",
    "    "
   ]
  },
  {
   "cell_type": "markdown",
   "metadata": {},
   "source": [
    "# Задача 2"
   ]
  },
  {
   "cell_type": "code",
   "execution_count": 34,
   "metadata": {},
   "outputs": [],
   "source": [
    "def complex_expr(A: np.ndarray, B: np.ndarray) -> np.ndarray:\n",
    "    if A.shape[1] != B.shape[0]:\n",
    "        return None\n",
    "    return np.tan(A) @ np.log(np.abs(B))"
   ]
  },
  {
   "cell_type": "markdown",
   "metadata": {},
   "source": [
    "# Задача 3"
   ]
  },
  {
   "cell_type": "code",
   "execution_count": 53,
   "metadata": {},
   "outputs": [],
   "source": [
    "def max_result(X: np.ndarray) -> float:\n",
    "    a = X.prod(axis=0).min()\n",
    "    b = X.prod(axis=1).min()\n",
    "    c = X.min(axis=0).prod()\n",
    "    d = X.min(axis=1).prod()\n",
    "    return np.max([a,b,c,d])"
   ]
  },
  {
   "cell_type": "code",
   "execution_count": 49,
   "metadata": {},
   "outputs": [],
   "source": [
    "X = np.array([[ 1,  2, 13],\n",
    "              [15,  6,  8],\n",
    "              [ 7, 18,  9]])"
   ]
  },
  {
   "cell_type": "code",
   "execution_count": 54,
   "metadata": {},
   "outputs": [
    {
     "data": {
      "text/plain": [
       "105"
      ]
     },
     "execution_count": 54,
     "metadata": {},
     "output_type": "execute_result"
    }
   ],
   "source": [
    "\n",
    "max_result(X)"
   ]
  },
  {
   "cell_type": "markdown",
   "metadata": {},
   "source": [
    "# Задача 4"
   ]
  },
  {
   "cell_type": "code",
   "execution_count": 55,
   "metadata": {},
   "outputs": [],
   "source": [
    "def nearest_value(X: np.ndarray, a: float) -> float:\n",
    "    X = X.reshape(-1)\n",
    "    return X[(np.abs(X - a)).argmin()]"
   ]
  },
  {
   "cell_type": "code",
   "execution_count": 56,
   "metadata": {},
   "outputs": [
    {
     "data": {
      "text/plain": [
       "7"
      ]
     },
     "execution_count": 56,
     "metadata": {},
     "output_type": "execute_result"
    }
   ],
   "source": [
    "nearest_value(X, 7.2)"
   ]
  },
  {
   "cell_type": "markdown",
   "metadata": {},
   "source": [
    "# Задача 5"
   ]
  },
  {
   "cell_type": "code",
   "execution_count": 57,
   "metadata": {},
   "outputs": [],
   "source": [
    "def tensor_mask(X: np.ndarray, mask: np.ndarray) -> np.ndarray:\n",
    "    return X ^ mask"
   ]
  },
  {
   "cell_type": "code",
   "execution_count": 58,
   "metadata": {},
   "outputs": [],
   "source": [
    "X = np.array([\n",
    "              [[ 1, 0, 1],\n",
    "               [ 1, 1, 1],\n",
    "               [ 0, 0, 1]],\n",
    "             \n",
    "              [[ 1, 1, 1],\n",
    "               [ 1, 1, 1],\n",
    "               [ 1, 1, 1]]\n",
    "            ])\n",
    "mask = np.array([[1, 1, 0],\n",
    "                 [1, 1, 0],\n",
    "                 [1, 1, 0]])"
   ]
  },
  {
   "cell_type": "code",
   "execution_count": 59,
   "metadata": {},
   "outputs": [
    {
     "data": {
      "text/plain": [
       "array([[[0, 1, 1],\n",
       "        [0, 0, 1],\n",
       "        [1, 1, 1]],\n",
       "\n",
       "       [[0, 0, 1],\n",
       "        [0, 0, 1],\n",
       "        [0, 0, 1]]])"
      ]
     },
     "execution_count": 59,
     "metadata": {},
     "output_type": "execute_result"
    }
   ],
   "source": [
    "tensor_mask(X, mask)"
   ]
  },
  {
   "cell_type": "markdown",
   "metadata": {},
   "source": [
    "# Задача 6"
   ]
  },
  {
   "cell_type": "code",
   "execution_count": 81,
   "metadata": {},
   "outputs": [],
   "source": [
    "def sort_evens(A: np.ndarray) -> np.ndarray:\n",
    "    X = A.copy()\n",
    "    X[X % 2 ==0] = np.sort(X[X % 2 ==0])\n",
    "    return X"
   ]
  },
  {
   "cell_type": "code",
   "execution_count": 82,
   "metadata": {},
   "outputs": [],
   "source": [
    "A = np.array([43, 66, 34, 55, 78, 105, 2])"
   ]
  },
  {
   "cell_type": "code",
   "execution_count": 83,
   "metadata": {},
   "outputs": [
    {
     "data": {
      "text/plain": [
       "array([ 43,   2,  34,  55,  66, 105,  78])"
      ]
     },
     "execution_count": 83,
     "metadata": {},
     "output_type": "execute_result"
    }
   ],
   "source": [
    "sort_evens(A)"
   ]
  },
  {
   "cell_type": "markdown",
   "metadata": {},
   "source": [
    "# Задача 7"
   ]
  },
  {
   "cell_type": "code",
   "execution_count": 85,
   "metadata": {},
   "outputs": [],
   "source": [
    "def num_sum(A):\n",
    "    summa = lambda x: sum(list(map(int, list(str(x)))))\n",
    "    vs = np.vectorize(summa)\n",
    "    return vs(A)"
   ]
  },
  {
   "cell_type": "code",
   "execution_count": 86,
   "metadata": {},
   "outputs": [],
   "source": [
    "A = np.array([43, 66, 34, 55, 78, 105, 2])"
   ]
  },
  {
   "cell_type": "code",
   "execution_count": 87,
   "metadata": {},
   "outputs": [
    {
     "data": {
      "text/plain": [
       "array([ 7, 12,  7, 10, 15,  6,  2])"
      ]
     },
     "execution_count": 87,
     "metadata": {},
     "output_type": "execute_result"
    }
   ],
   "source": [
    "num_sum(A)"
   ]
  },
  {
   "cell_type": "markdown",
   "metadata": {},
   "source": [
    "# Задача 8"
   ]
  },
  {
   "cell_type": "code",
   "execution_count": 101,
   "metadata": {},
   "outputs": [],
   "source": [
    "def replace_nans(X):\n",
    "    med = np.nan_to_num(np.nanmedian(X, axis=1))[:, np.newaxis]\n",
    "    mask = np.isnan(X) * med\n",
    "    return np.nan_to_num(X) + mask"
   ]
  },
  {
   "cell_type": "code",
   "execution_count": 106,
   "metadata": {},
   "outputs": [
    {
     "data": {
      "text/plain": [
       "array([[0. , 0. , 0. ],\n",
       "       [4. , 4.5, 5. ],\n",
       "       [8. , 8. , 8. ]])"
      ]
     },
     "execution_count": 106,
     "metadata": {},
     "output_type": "execute_result"
    }
   ],
   "source": [
    "replace_nans(X)"
   ]
  }
 ],
 "metadata": {
  "kernelspec": {
   "display_name": "Python 3",
   "language": "python",
   "name": "python3"
  },
  "language_info": {
   "codemirror_mode": {
    "name": "ipython",
    "version": 3
   },
   "file_extension": ".py",
   "mimetype": "text/x-python",
   "name": "python",
   "nbconvert_exporter": "python",
   "pygments_lexer": "ipython3",
   "version": "3.7.3"
  }
 },
 "nbformat": 4,
 "nbformat_minor": 4
}
