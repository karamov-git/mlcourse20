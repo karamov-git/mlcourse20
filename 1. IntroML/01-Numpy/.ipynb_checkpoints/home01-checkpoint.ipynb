{
 "cells": [
  {
   "cell_type": "markdown",
   "metadata": {},
   "source": [
    "# Домашка 1. Numpy"
   ]
  },
  {
   "cell_type": "code",
   "execution_count": 1,
   "metadata": {},
   "outputs": [],
   "source": [
    "import numpy as np"
   ]
  },
  {
   "cell_type": "markdown",
   "metadata": {},
   "source": [
    "### Прелесть numpy в массовых операциях, а значит все задания должны быть реализованы без циклов. \n",
    "\n",
    "### Если в коде есть слово for или while задача не засчитывается"
   ]
  },
  {
   "cell_type": "markdown",
   "metadata": {},
   "source": [
    "## (1 балл) Задание №1. Жорданова форма."
   ]
  },
  {
   "cell_type": "markdown",
   "metadata": {},
   "source": [
    "Дан лист из **3**-х действительных собственных чисел и их алгебраическими кратностями.\n",
    "\n",
    "Необходимо построить Жорданову матрицу по этим собственным числам. (матрица - numpy.array)\n",
    "\n",
    "Пример\n",
    "$$\\begin{pmatrix}\n",
    "2.2 & 1 & 0 & 0 & 0 & 0\\\\\n",
    "0 & 2.2 & 0 & 0 & 0 & 0\\\\\n",
    "0 & 0 & 3 & 1 & 0 & 0\\\\\n",
    "0 & 0 & 0 & 3 & 1 & 0\\\\\n",
    "0 & 0 & 0 & 0 & 3 & 0\\\\\n",
    "0 & 0 & 0 & 0 & 0 & 5\n",
    "\\end{pmatrix}$$  \n",
    "\n",
    "Напоминание, Жорданова матрица состоит из блоков, где на главной диагонали стоят собственные числа, а следующая диагональ блока заполнена единицами. \n",
    "\n",
    "Блоки идут в `том же порядке`, что и в листе на входе. (Хотя в реальной Жордановой матрице блоки могут идти в любом порядке)"
   ]
  },
  {
   "cell_type": "markdown",
   "metadata": {},
   "source": [
    "### Sample 1\n",
    "#### Input:\n",
    "```python\n",
    "X = np.array([(2.2, 2), (3, 3), (5, 1)])\n",
    "```\n",
    "#### Output:\n",
    "```python\n",
    "array([[2.2, 1. , 0. , 0. , 0. , 0. ],\n",
    "       [0. , 2.2, 0. , 0. , 0. , 0. ],\n",
    "       [0. , 0. , 3. , 1. , 0. , 0. ],\n",
    "       [0. , 0. , 0. , 3. , 1. , 0. ],\n",
    "       [0. , 0. , 0. , 0. , 3. , 0. ],\n",
    "       [0. , 0. , 0. , 0. , 0. , 5. ]])\n",
    "```"
   ]
  },
  {
   "cell_type": "code",
   "execution_count": 1,
   "metadata": {},
   "outputs": [],
   "source": [
    "def jordan_matrix(n: int) -> np.ndarray:\n",
    "    ### ╰( ͡° ͜ʖ ͡° )つ──☆*:・ﾟ\n",
    "    pass"
   ]
  },
  {
   "cell_type": "markdown",
   "metadata": {},
   "source": [
    "---"
   ]
  },
  {
   "cell_type": "markdown",
   "metadata": {},
   "source": [
    "## (1 балл) Задание №2. Сложное выражение"
   ]
  },
  {
   "cell_type": "markdown",
   "metadata": {},
   "source": [
    "На вход подаются матрицы $A$, $B$.\n",
    "Запишите и посчитайте с помощью numpy следующее выражение. Если выполнить операцию корректно нельзя - выведите None.  \n",
    "\n",
    "$$\\tan{(A)} \\times \\ln{(|B|)}$$\n",
    "\n",
    "* $\\times$ - матричное перемножение.\n",
    "* Доп. требование: в решении не должно быть конструкции: \n",
    "```python\n",
    "try: \n",
    "    ...\n",
    "except:\n",
    "    ...\n",
    "```\n"
   ]
  },
  {
   "cell_type": "markdown",
   "metadata": {},
   "source": [
    "### Sample 1\n",
    "#### Input:\n",
    "На вход подается ```np.ndarray```, а не ```np.matrix```. Будьте внимательны! \n",
    "```python\n",
    "A = np.array([3, 4])\n",
    "B = np.array([[-3, 5],[4, -5]])\n",
    "```\n",
    "#### Output:\n",
    "```python\n",
    "array([1.44847773, 1.63402166])\n",
    "```"
   ]
  },
  {
   "cell_type": "markdown",
   "metadata": {},
   "source": [
    "### Sample 2\n",
    "#### Input:\n",
    "На вход подается ```np.ndarray```, а не ```np.matrix```. Будьте внимательны! \n",
    "```python\n",
    "A = np.array([3, 4, 5])\n",
    "B = np.array([[-3, 5],[4, -5]])\n",
    "```\n",
    "#### Output:\n",
    "```python\n",
    "None\n",
    "```"
   ]
  },
  {
   "cell_type": "code",
   "execution_count": 3,
   "metadata": {},
   "outputs": [],
   "source": [
    "def complex_expr(A: np.ndarray, B: np.ndarray) -> np.ndarray:\n",
    "    ### ╰( ͡° ͜ʖ ͡° )つ──☆*:・ﾟ\n",
    "    pass"
   ]
  },
  {
   "cell_type": "markdown",
   "metadata": {},
   "source": [
    "---"
   ]
  },
  {
   "cell_type": "markdown",
   "metadata": {},
   "source": [
    "## (1 балл) Задание №3. Наибольший результат."
   ]
  },
  {
   "cell_type": "markdown",
   "metadata": {},
   "source": [
    "Пусть у нас есть матрица $X$, к которой мы хотим применить операции покоординатного перемножения и минимума для всех переменных (перемножаем все элементы строки или столбца). Очевидно, что выполняя данные операции на разные координаты и в разном порядке, мы будем получать разный результат. Найдите наибольший результат среди возможных применений этих двух функций к входной матрице. "
   ]
  },
  {
   "cell_type": "markdown",
   "metadata": {},
   "source": [
    "### Sample\n",
    "#### Input:\n",
    "```python\n",
    "X = np.array([[ 1,  2, 13],\n",
    "              [15,  6,  8],\n",
    "              [ 7, 18,  9]])\n",
    "```\n",
    "#### Output:\n",
    "```python\n",
    "105\n",
    "```"
   ]
  },
  {
   "cell_type": "code",
   "execution_count": 4,
   "metadata": {},
   "outputs": [],
   "source": [
    "def max_result(X: np.ndarray) -> float:\n",
    "    ### ╰( ͡° ͜ʖ ͡° )つ──☆*:・ﾟ\n",
    "    pass"
   ]
  },
  {
   "cell_type": "markdown",
   "metadata": {},
   "source": [
    "---"
   ]
  },
  {
   "cell_type": "markdown",
   "metadata": {},
   "source": [
    "## (1 балл) Задание №4. Найти ближайший элемент."
   ]
  },
  {
   "cell_type": "markdown",
   "metadata": {},
   "source": [
    "Реализуйте функцию, принимающую на вход непустой тензор (может быть многомерным) $X$ и некоторое число $a$ и возвращающую ближайший к числу элемент тензора.\n",
    "\n",
    "Подсказка: тут может пригодится одна полезная функция, которой не было в семинаре. Погуглите:)"
   ]
  },
  {
   "cell_type": "markdown",
   "metadata": {},
   "source": [
    "### Sample\n",
    "#### Input:\n",
    "```python\n",
    "X = np.array([[ 1,  2, 13],\n",
    "              [15,  6,  8],\n",
    "              [ 7, 18,  9]])\n",
    "a = 7.2\n",
    "```\n",
    "#### Output:\n",
    "```python\n",
    "7\n",
    "```"
   ]
  },
  {
   "cell_type": "code",
   "execution_count": 5,
   "metadata": {},
   "outputs": [],
   "source": [
    "def nearest_value(X: np.ndarray, a: float) -> float:\n",
    "    ### ╰( ͡° ͜ʖ ͡° )つ──☆*:・ﾟ\n",
    "    pass"
   ]
  },
  {
   "cell_type": "markdown",
   "metadata": {},
   "source": [
    "---"
   ]
  },
  {
   "cell_type": "markdown",
   "metadata": {
    "colab_type": "text",
    "id": "XQp7dsakqV_I"
   },
   "source": [
    "## (1 балл) Задание №5. Применение маски"
   ]
  },
  {
   "cell_type": "markdown",
   "metadata": {
    "colab_type": "text",
    "id": "DPHwpO0GqdSP"
   },
   "source": [
    "Даны трехмерный тензор размерности $X(n, k, k)$, состоящий из $0$ или $1$, или $n$ картинок $k \\times k$. Нужно применить к нему указанную маску размерности $(k, k)$: В случае, если биты в маске и картинке совпадают, то результирующий бит должен быть равен $0$, иначе $1$."
   ]
  },
  {
   "cell_type": "markdown",
   "metadata": {},
   "source": [
    "### Sample\n",
    "#### Input:\n",
    "```python\n",
    "X = np.array([\n",
    "              [[ 1, 0, 1],\n",
    "               [ 1, 1, 1],\n",
    "               [ 0, 0, 1]],\n",
    "             \n",
    "              [[ 1, 1, 1],\n",
    "               [ 1, 1, 1],\n",
    "               [ 1, 1, 1]]\n",
    "            ])\n",
    "mask = np.array([[1, 1, 0],\n",
    "                 [1, 1, 0],\n",
    "                 [1, 1, 0]])\n",
    "```\n",
    "#### Output:\n",
    "```python\n",
    "array([[[0, 1, 1],\n",
    "        [0, 0, 1],\n",
    "        [1, 1, 1]],\n",
    "\n",
    "       [[0, 0, 1],\n",
    "        [0, 0, 1],\n",
    "        [0, 0, 1]]])\n",
    "```"
   ]
  },
  {
   "cell_type": "code",
   "execution_count": 6,
   "metadata": {},
   "outputs": [],
   "source": [
    "def tensor_mask(X: np.ndarray, mask: np.ndarray) -> np.ndarray:\n",
    "    ### ╰( ͡° ͜ʖ ͡° )つ──☆*:・ﾟ\n",
    "    pass"
   ]
  },
  {
   "cell_type": "markdown",
   "metadata": {},
   "source": [
    "---"
   ]
  },
  {
   "cell_type": "markdown",
   "metadata": {},
   "source": [
    "## (1 балл) Задание №6. Сортировка чисел по маске"
   ]
  },
  {
   "cell_type": "markdown",
   "metadata": {},
   "source": [
    "Дан массив целых чисел. Необходимо отсортировать в нем только числа, которые делятся на $2$.\n",
    "\n",
    "Для сортировки массивов у numpy тоже есть своя функция:)"
   ]
  },
  {
   "cell_type": "markdown",
   "metadata": {},
   "source": [
    "### Sample\n",
    "#### Input:\n",
    "```python\n",
    "A = np.array([43, 66, 34, 55, 78, 105, 2])\n",
    "```\n",
    "#### Output:\n",
    "```python\n",
    "array([ 43,   2,  34,  55,  66, 105,  78])\n",
    "```"
   ]
  },
  {
   "cell_type": "code",
   "execution_count": 7,
   "metadata": {},
   "outputs": [],
   "source": [
    "def sort_evens(A: np.ndarray) -> np.ndarray:\n",
    "    ### ╰( ͡° ͜ʖ ͡° )つ──☆*:・ﾟ\n",
    "    pass"
   ]
  },
  {
   "cell_type": "markdown",
   "metadata": {},
   "source": [
    "---"
   ]
  },
  {
   "cell_type": "markdown",
   "metadata": {},
   "source": [
    "## (1 балла) Задание №7. Сумма цифр"
   ]
  },
  {
   "cell_type": "markdown",
   "metadata": {},
   "source": [
    "На вход подается numpy array c натуральными числами. Надо получить массив сумм цифр в этих числах."
   ]
  },
  {
   "cell_type": "markdown",
   "metadata": {},
   "source": [
    "### Sample\n",
    "#### Input:\n",
    "```python\n",
    "x = np.array([1241, 354, 121])\n",
    "```\n",
    "#### Output:\n",
    "```python\n",
    "array([ 8, 12, 4])\n",
    "```"
   ]
  },
  {
   "cell_type": "code",
   "execution_count": 6,
   "metadata": {},
   "outputs": [],
   "source": [
    "def num_sum(a: np.ndarray) -> np.ndarray:\n",
    "    ### ╰( ͡° ͜ʖ ͡° )つ──☆*:・ﾟ\n",
    "    pass"
   ]
  },
  {
   "cell_type": "markdown",
   "metadata": {},
   "source": [
    "----"
   ]
  },
  {
   "cell_type": "markdown",
   "metadata": {},
   "source": [
    "## (2 балла) Задание №8. Чистка NaN-ов в строке"
   ]
  },
  {
   "cell_type": "markdown",
   "metadata": {},
   "source": [
    "Одна из важных проблем данных - пустые значения. В *numpy* и *pandas* они обычно объявляются специальным типом ```np.nan```. В реальных задачах нам часто нужно что-то сделать с этими значениями. Например заменить на 0, среднее или медиану.\n",
    "\n",
    "Реализуйте функцию, каторая во входной вещественной матрице ```X``` находит все значения ```nan``` и заменяет их на **медиану** остальных элементов строки. Если все элементы строки матрицы ```nan```, то заполняем строчку нулями.\n",
    "\n",
    "Подсказка: посмотрите на функции ```np.nan_to_num``` и ```np.nanmean```, которые работают с ```np.nan``` значениями."
   ]
  },
  {
   "cell_type": "markdown",
   "metadata": {},
   "source": [
    "### Sample\n",
    "#### Input:\n",
    "```python\n",
    "X = np.array([[np.nan, np.nan,  np.nan],\n",
    "              [     4, np.nan,       5],\n",
    "              [np.nan,      8,  np.nan]])\n",
    "```\n",
    "#### Output:\n",
    "```python\n",
    "array([[0. , 0. , 0. ],\n",
    "       [4. , 4.5, 5. ],\n",
    "       [8. , 8. , 8. ]])\n",
    "```\n"
   ]
  },
  {
   "cell_type": "code",
   "execution_count": 9,
   "metadata": {},
   "outputs": [],
   "source": [
    "def replace_nans(X: np.ndarray) -> np.ndarray:\n",
    "    ### ╰( ͡° ͜ʖ ͡° )つ──☆*:・ﾟ\n",
    "    pass"
   ]
  },
  {
   "cell_type": "markdown",
   "metadata": {},
   "source": [
    "----"
   ]
  },
  {
   "cell_type": "markdown",
   "metadata": {},
   "source": [
    "# Гробы\n",
    "Специальные задачи повышенной сложности. Баллы не входят в пулл 100% баллов. "
   ]
  },
  {
   "cell_type": "markdown",
   "metadata": {},
   "source": [
    "## *(2 балл) Задание №9. Жорданова форма."
   ]
  },
  {
   "cell_type": "markdown",
   "metadata": {},
   "source": [
    "Дан лист из **k** комплексных собственных чисел и их алгебраическими кратностями.\n",
    "\n",
    "Необходимо построить Жорданову матрицу по этим собственным числам. (матрица - numpy.array)\n",
    "\n",
    "Пример\n",
    "$$\\begin{pmatrix}\n",
    "2.2 & 1 & 0 & 0 & 0 & 0\\\\\n",
    "0 & 2.2 & 0 & 0 & 0 & 0\\\\\n",
    "0 & 0 & 3 & 1 & 0 & 0\\\\\n",
    "0 & 0 & 0 & 3 & 1 & 0\\\\\n",
    "0 & 0 & 0 & 0 & 3 & 0\\\\\n",
    "0 & 0 & 0 & 0 & 0 & 5+4j\n",
    "\\end{pmatrix}$$  \n",
    "\n",
    "Напоминание, Жорданова матрица состоит из блоков, где на главной диагонали стоят собственные числа, а следующая диагональ блока заполнена единицами. Блоки идут в том же порядке, что и в листе на входе."
   ]
  },
  {
   "cell_type": "markdown",
   "metadata": {},
   "source": [
    "### Sample 1\n",
    "#### Input:\n",
    "```python\n",
    "X = np.array([(2.2, 2), (3, 3), (5 + 4j, 1)])\n",
    "```\n",
    "#### Output:\n",
    "```python\n",
    "array([[2.2, 1. , 0. , 0. , 0. , 0. ],\n",
    "       [0. , 2.2, 0. , 0. , 0. , 0. ],\n",
    "       [0. , 0. , 3. , 1. , 0. , 0. ],\n",
    "       [0. , 0. , 0. , 3. , 1. , 0. ],\n",
    "       [0. , 0. , 0. , 0. , 3. , 0. ],\n",
    "       [0. , 0. , 0. , 0. , 0. , 5.+4.j ]])\n",
    "```"
   ]
  },
  {
   "cell_type": "code",
   "execution_count": 8,
   "metadata": {},
   "outputs": [],
   "source": [
    "def jordan_matrix2(n: int) -> np.ndarray:\n",
    "    ### ╰( ͡° ͜ʖ ͡° )つ──☆*:・ﾟ\n",
    "    pass"
   ]
  },
  {
   "cell_type": "markdown",
   "metadata": {},
   "source": [
    "---"
   ]
  },
  {
   "cell_type": "markdown",
   "metadata": {},
   "source": [
    "## Источники материалов:\n",
    "* [mlcourse.ai](https://github.com/Yorko/mlcourse.ai) - курс Машинного обучения с OpenDataScience\n",
    "* [AI Seminars](https://github.com/AICommunityInno/Seminars) - семинары по Машинному обучению в Иннополисе\n",
    "* [HSE-ML course](https://github.com/esokolov/ml-course-hse) - курс Машинного обучения ФКН ВШЭ"
   ]
  }
 ],
 "metadata": {
  "kernelspec": {
   "display_name": "Python 3",
   "language": "python",
   "name": "python3"
  },
  "language_info": {
   "codemirror_mode": {
    "name": "ipython",
    "version": 3
   },
   "file_extension": ".py",
   "mimetype": "text/x-python",
   "name": "python",
   "nbconvert_exporter": "python",
   "pygments_lexer": "ipython3",
   "version": "3.7.3"
  }
 },
 "nbformat": 4,
 "nbformat_minor": 4
}
